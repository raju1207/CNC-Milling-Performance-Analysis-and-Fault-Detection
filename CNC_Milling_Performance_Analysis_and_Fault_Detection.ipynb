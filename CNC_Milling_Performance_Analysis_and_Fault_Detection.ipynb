{
  "nbformat": 4,
  "nbformat_minor": 0,
  "metadata": {
    "colab": {
      "provenance": [],
      "authorship_tag": "ABX9TyNFxMNn8TtpjX9bPEAKQUVf",
      "include_colab_link": true
    },
    "kernelspec": {
      "name": "python3",
      "display_name": "Python 3"
    },
    "language_info": {
      "name": "python"
    }
  },
  "cells": [
    {
      "cell_type": "markdown",
      "metadata": {
        "id": "view-in-github",
        "colab_type": "text"
      },
      "source": [
        "<a href=\"https://colab.research.google.com/github/raju1207/CNC-Milling-Performance-Analysis-and-Fault-Detection/blob/main/CNC_Milling_Performance_Analysis_and_Fault_Detection.ipynb\" target=\"_parent\"><img src=\"https://colab.research.google.com/assets/colab-badge.svg\" alt=\"Open In Colab\"/></a>"
      ]
    },
    {
      "cell_type": "code",
      "execution_count": null,
      "metadata": {
        "colab": {
          "base_uri": "https://localhost:8080/"
        },
        "id": "XGQMRttp7sb9",
        "outputId": "1a966c4b-1240-4dcf-f537-3a7cc4cadf09"
      },
      "outputs": [
        {
          "output_type": "stream",
          "name": "stdout",
          "text": [
            "Mounted at /content/drive\n"
          ]
        }
      ],
      "source": [
        "from google.colab import drive\n",
        "drive.mount('/content/drive')"
      ]
    },
    {
      "cell_type": "code",
      "source": [
        "import pandas as pd\n",
        "import os\n",
        "import glob\n",
        "\n",
        "data_path = \"/content/drive/MyDrive/MDTM33(DS-WD-T-B16)- Final Project-20250504T062643Z-1-001/MDTM33(DS-WD-T-B16)- Final Project\"\n",
        "\n",
        "csv_files = sorted(glob.glob(os.path.join(data_path, \"experiment_*.csv\")))\n",
        "\n",
        "print(f\"✅ Found {len(csv_files)} experiment CSV files:\")\n",
        "for file in csv_files:\n",
        "    print(file)\n",
        "\n",
        "df_list = []\n",
        "for i, file in enumerate(csv_files, start=1):\n",
        "    try:\n",
        "        df = pd.read_csv(file)\n",
        "        df[\"No\"] = i\n",
        "        df_list.append(df)\n",
        "    except Exception as e:\n",
        "        print(f\"⚠️ Error reading {file}: {e}\")\n",
        "\n",
        "if df_list:\n",
        "    merged_experiments = pd.concat(df_list, ignore_index=True)\n",
        "    print(\"✅ Merging completed! Final dataset shape:\", merged_experiments.shape)\n",
        "else:\n",
        "    print(\"❌ No valid experiment CSVs found to merge.\")\n",
        "\n",
        "merged_experiments.to_csv(\"merged_experiments.csv\")\n"
      ],
      "metadata": {
        "colab": {
          "base_uri": "https://localhost:8080/"
        },
        "id": "NTi05QCVKm_5",
        "outputId": "d013d612-6b2c-415c-e0cb-32258ec73c36"
      },
      "execution_count": 30,
      "outputs": [
        {
          "output_type": "stream",
          "name": "stdout",
          "text": [
            "✅ Found 18 experiment CSV files:\n",
            "/content/drive/MyDrive/MDTM33(DS-WD-T-B16)- Final Project-20250504T062643Z-1-001/MDTM33(DS-WD-T-B16)- Final Project/experiment_01.csv\n",
            "/content/drive/MyDrive/MDTM33(DS-WD-T-B16)- Final Project-20250504T062643Z-1-001/MDTM33(DS-WD-T-B16)- Final Project/experiment_02.csv\n",
            "/content/drive/MyDrive/MDTM33(DS-WD-T-B16)- Final Project-20250504T062643Z-1-001/MDTM33(DS-WD-T-B16)- Final Project/experiment_03.csv\n",
            "/content/drive/MyDrive/MDTM33(DS-WD-T-B16)- Final Project-20250504T062643Z-1-001/MDTM33(DS-WD-T-B16)- Final Project/experiment_04.csv\n",
            "/content/drive/MyDrive/MDTM33(DS-WD-T-B16)- Final Project-20250504T062643Z-1-001/MDTM33(DS-WD-T-B16)- Final Project/experiment_05.csv\n",
            "/content/drive/MyDrive/MDTM33(DS-WD-T-B16)- Final Project-20250504T062643Z-1-001/MDTM33(DS-WD-T-B16)- Final Project/experiment_06.csv\n",
            "/content/drive/MyDrive/MDTM33(DS-WD-T-B16)- Final Project-20250504T062643Z-1-001/MDTM33(DS-WD-T-B16)- Final Project/experiment_07.csv\n",
            "/content/drive/MyDrive/MDTM33(DS-WD-T-B16)- Final Project-20250504T062643Z-1-001/MDTM33(DS-WD-T-B16)- Final Project/experiment_08.csv\n",
            "/content/drive/MyDrive/MDTM33(DS-WD-T-B16)- Final Project-20250504T062643Z-1-001/MDTM33(DS-WD-T-B16)- Final Project/experiment_09.csv\n",
            "/content/drive/MyDrive/MDTM33(DS-WD-T-B16)- Final Project-20250504T062643Z-1-001/MDTM33(DS-WD-T-B16)- Final Project/experiment_10.csv\n",
            "/content/drive/MyDrive/MDTM33(DS-WD-T-B16)- Final Project-20250504T062643Z-1-001/MDTM33(DS-WD-T-B16)- Final Project/experiment_11.csv\n",
            "/content/drive/MyDrive/MDTM33(DS-WD-T-B16)- Final Project-20250504T062643Z-1-001/MDTM33(DS-WD-T-B16)- Final Project/experiment_12.csv\n",
            "/content/drive/MyDrive/MDTM33(DS-WD-T-B16)- Final Project-20250504T062643Z-1-001/MDTM33(DS-WD-T-B16)- Final Project/experiment_13.csv\n",
            "/content/drive/MyDrive/MDTM33(DS-WD-T-B16)- Final Project-20250504T062643Z-1-001/MDTM33(DS-WD-T-B16)- Final Project/experiment_14.csv\n",
            "/content/drive/MyDrive/MDTM33(DS-WD-T-B16)- Final Project-20250504T062643Z-1-001/MDTM33(DS-WD-T-B16)- Final Project/experiment_15.csv\n",
            "/content/drive/MyDrive/MDTM33(DS-WD-T-B16)- Final Project-20250504T062643Z-1-001/MDTM33(DS-WD-T-B16)- Final Project/experiment_16.csv\n",
            "/content/drive/MyDrive/MDTM33(DS-WD-T-B16)- Final Project-20250504T062643Z-1-001/MDTM33(DS-WD-T-B16)- Final Project/experiment_17.csv\n",
            "/content/drive/MyDrive/MDTM33(DS-WD-T-B16)- Final Project-20250504T062643Z-1-001/MDTM33(DS-WD-T-B16)- Final Project/experiment_18.csv\n",
            "✅ Merging completed! Final dataset shape: (25286, 49)\n"
          ]
        }
      ]
    },
    {
      "cell_type": "code",
      "source": [
        "pd.set_option('display.max_columns', None)"
      ],
      "metadata": {
        "id": "JIiPfWlPLb5v"
      },
      "execution_count": 31,
      "outputs": []
    }
  ]
}